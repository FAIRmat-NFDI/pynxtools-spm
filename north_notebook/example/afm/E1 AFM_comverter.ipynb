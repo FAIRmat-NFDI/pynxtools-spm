{
 "cells": [
  {
   "cell_type": "code",
   "execution_count": null,
   "id": "8b0f9dff",
   "metadata": {},
   "outputs": [],
   "source": [
    "!pip list | grep pynxtools"
   ]
  },
  {
   "cell_type": "code",
   "execution_count": null,
   "id": "5a568140",
   "metadata": {},
   "outputs": [],
   "source": [
    "# Convert to nexus file\n",
    "from pynxtools.dataconverter.convert import convert, logger\n",
    "import logging\n",
    "logger.setLevel(logging.ERROR)\n",
    "\n",
    "convert(\n",
    "    input_file=[\"A151216.123306-02602.sxm\", \"eln_data.yaml\", \"config.json\"],\n",
    "    reader='spm',\n",
    "    nxdl='NXafm',\n",
    "    output='afm_4_described_nxdata.nxs'\n",
    ")"
   ]
  },
  {
   "cell_type": "code",
   "execution_count": null,
   "id": "d03c02d9",
   "metadata": {},
   "outputs": [],
   "source": []
  },
  {
   "cell_type": "code",
   "execution_count": null,
   "id": "640ae343",
   "metadata": {},
   "outputs": [],
   "source": []
  },
  {
   "cell_type": "code",
   "execution_count": null,
   "id": "302d2c5e",
   "metadata": {},
   "outputs": [],
   "source": []
  }
 ],
 "metadata": {
  "kernelspec": {
   "display_name": ".venv",
   "language": "python",
   "name": "python3"
  },
  "language_info": {
   "codemirror_mode": {
    "name": "ipython",
    "version": 3
   },
   "file_extension": ".py",
   "mimetype": "text/x-python",
   "name": "python",
   "nbconvert_exporter": "python",
   "pygments_lexer": "ipython3",
   "version": "3.12.9"
  }
 },
 "nbformat": 4,
 "nbformat_minor": 5
}
