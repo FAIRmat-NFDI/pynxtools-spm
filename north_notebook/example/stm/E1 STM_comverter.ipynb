{
 "cells": [
  {
   "cell_type": "code",
   "execution_count": null,
   "id": "5a568140",
   "metadata": {
    "vscode": {
     "languageId": "plaintext"
    }
   },
   "outputs": [],
   "source": [
    "# Convert to nexus file\n",
    "from pynxtools.dataconverter.convert import convert, logger\n",
    "import logging\n",
    "logger.setLevel(logging.ERROR)\n",
    "\n",
    "convert(\n",
    "    input_file=[\"STM_nanonis_generic_5e.sxm\", \"eln_data.yaml\", \"config.json\"],\n",
    "    reader='spm',\n",
    "    nxdl='NXstm',\n",
    "    output='stm_5e_with_described_nxdata.nxs'\n",
    ")"
   ]
  },
  {
   "cell_type": "code",
   "execution_count": null,
   "id": "d03c02d9",
   "metadata": {
    "vscode": {
     "languageId": "plaintext"
    }
   },
   "outputs": [],
   "source": []
  }
 ],
 "metadata": {
  "language_info": {
   "name": "python"
  }
 },
 "nbformat": 4,
 "nbformat_minor": 5
}
