{
 "cells": [
  {
   "cell_type": "code",
   "execution_count": null,
   "id": "5a568140",
   "metadata": {
    "vscode": {
     "languageId": "plaintext"
    }
   },
   "outputs": [],
   "source": [
    "# Convert to nexus file\n",
    "from pynxtools.dataconverter.convert import convert, logger\n",
    "import logging\n",
    "logger.setLevel(logging.ERROR)\n",
    "\n",
    "convert(\n",
    "    input_file=[\"STS_nanonis_generic_5e_1.dat\", \"eln_data.yaml\", \"config.json\"],\n",
    "    reader='spm',\n",
    "    nxdl='NXsts',\n",
    "    output='sts_5e_described_nxdata.nxs'\n",
    ")"
   ]
  },
  {
   "cell_type": "code",
   "execution_count": null,
   "id": "d03c02d9",
   "metadata": {
    "vscode": {
     "languageId": "plaintext"
    }
   },
   "outputs": [],
   "source": []
  }
 ],
 "metadata": {
  "language_info": {
   "name": "python"
  }
 },
 "nbformat": 4,
 "nbformat_minor": 5
}
